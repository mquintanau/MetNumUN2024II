{
  "cells": [
    {
      "cell_type": "markdown",
      "metadata": {
        "id": "z3x2RsJ--mbj"
      },
      "source": [
        "# LAB 6\n",
        "\n",
        "*   Juan Valdez\n",
        "\n",
        "  * UN ID: jvaldez\n",
        "  * List number: 12\n",
        "\n",
        "\n",
        "\n"
      ]
    },
    {
      "cell_type": "markdown",
      "metadata": {
        "id": "l5urCPgRFp4u"
      },
      "source": [
        "For the cubic equation\n",
        "$$ ax^3+bx^+cx +d = 0$$\n",
        "\n",
        "and use Cubic equation General cubic formula- [wikipedia](https://en.wikipedia.org/wiki/Cubic_equation)\n",
        "\n",
        "\n",
        "$$ Δ_0=b^2 -3ac $$\n",
        "\n",
        "$$ Δ_1=2b^3 -9abc+27a^2d $$\n",
        "\n",
        "$$C=\\sqrt[3]{\\frac{Δ_1 \\pm \\sqrt{Δ_1^2-4Δ_0^3}}{2}}$$\n",
        "\n",
        "The sign \"$\\pm$\" before the square root is either \"+\" or \"–\"; the choice is almost arbitrary, and changing it amounts to choosing a different square root. However, if a choice yields C = 0 (this occurs if $\\Delta_0 = 0 $, then the other sign must be selected instead. If both choices yield C = 0, that is, if\n",
        "$\\Delta_0 = 0 $ and $\\Delta_1 = 0 $ a fraction ⁠$\\frac{0}{0}$ occurs in following formulas; this fraction must be interpreted as equal to zero (see the end of this section). With these conventions, the three roots are\n",
        "\n",
        "$$x_k=-\\frac{1}{3a}\\left(b+ \\xi^k C+\\frac{Δ_0}{\\xi^k C}\\right), \\hspace{2cm} k \\in \\{1,2,3\\}$$\n",
        "\n",
        "\n",
        "with\n",
        "$\\xi$ a primitive cube root of unity, i.e.,\n",
        "$$\\xi = \\left( -\\frac{1}{2} \\pm \\frac{\\sqrt{3}}{2} i \\right)$$"
      ]
    },
    {
      "cell_type": "code",
      "execution_count": 25,
      "metadata": {
        "colab": {
          "base_uri": "https://localhost:8080/",
          "height": 430
        },
        "id": "4CVhu04ket9X",
        "outputId": "5d0e511c-6ed6-4f71-ccc8-222f303a9854"
      },
      "outputs": [
        {
          "data": {
            "image/png": "[encoded data removed]",
            "text/plain": [
              "<Figure size 640x480 with 1 Axes>"
            ]
          },
          "metadata": {},
          "output_type": "display_data"
        }
      ],
      "source": [
        "import numpy as np\n",
        "import matplotlib.pyplot as plt\n",
        "\n",
        "def cubic(a,b,c,d,x):\n",
        "    return a*x**3+b*x**2+c*x+d\n",
        "\n",
        "def cubicequiv(a,b,c,d,x):\n",
        "    return x**3+(b/a)*x**2+(c/a)*x+(d/a)\n",
        "\n",
        "x = np.arange(0.5, 3.5, 0.001)\n",
        "z = np.zeros(len(x))\n",
        "y = cubic(2,-12,22,-12,x)\n",
        "ynew = cubicequiv(2,-12,22,-12,x)\n",
        "plt.plot(x, y, x, ynew, x,z)\n",
        "plt.show()"
      ]
    },
    {
      "cell_type": "code",
      "execution_count": 26,
      "metadata": {
        "colab": {
          "base_uri": "https://localhost:8080/"
        },
        "id": "3GzDHWDsY3S5",
        "outputId": "1e3b5961-bbfe-43f4-ad0b-d3079d1aa4f2"
      },
      "outputs": [
        {
          "name": "stdout",
          "output_type": "stream",
          "text": [
            "(1+0j) (-0.5000000000000001-0.8660254037844386j) (-0.5000000000000001+0.8660254037844386j) (-0.4999999999999998+0.8660254037844388j)\n"
          ]
        }
      ],
      "source": [
        "# Calculate a cube roots https://stackoverflow.com/questions/60499277/cube-roots-of-a-complex-number-in-python\n",
        "\n",
        "x=1\n",
        "f = 1j**(2/3)\n",
        "C1 = complex(1)**(1/3)\n",
        "C2 = -C1*f # rotate 2pi/3\n",
        "C3 = complex(C2.real,-C2.imag)\n",
        "print(C1,C2,C3,C1*f**2)"
      ]
    },
    {
      "cell_type": "markdown",
      "metadata": {
        "id": "uPG6UkgRZFE3"
      },
      "source": [
        "Asuume $a=1$ then the equations are of the form\n",
        "\n",
        "$$ x^3+bx^+cx +d = 0$$ and complete the following function."
      ]
    },
    {
      "cell_type": "code",
      "execution_count": 48,
      "metadata": {},
      "outputs": [],
      "source": [
        "import cmath\n",
        "\n",
        "def solve_cubic(b, c, d):\n",
        "    \"\"\"Solve a cubic equation, x**3 + bx**2 + c*x + d = 0.\n",
        "\n",
        "    Parameters\n",
        "    ----------\n",
        "    b, c, d : float\n",
        "       Coefficients\n",
        "\n",
        "    Returns\n",
        "    -------\n",
        "    List of complex or float values\n",
        "       Roots.\n",
        "    \"\"\"\n",
        "\n",
        "    # Calculate discriminants\n",
        "    d_0 = b**2 - 3*c\n",
        "    d_1 = 2*b**3 - 9*b*c + 27*d\n",
        "\n",
        "    # Special case where all roots are equal\n",
        "    if cmath.isclose(d_0, 0) and cmath.isclose(d_1, 0):\n",
        "        return [complex(-b/3)] * 3  # Three equal roots\n",
        "\n",
        "    # Calculate the discriminant root\n",
        "    intern_root = cmath.sqrt(d_1**2 - 4*d_0**3)\n",
        "\n",
        "    # Compute C value, handling division by zero issues\n",
        "    C = pow((d_1 + intern_root) / 2, 1/3)\n",
        "    if cmath.isclose(C, 0):\n",
        "        C = pow((d_1 - intern_root) / 2, 1/3)\n",
        "\n",
        "\n",
        "    primitive_cube_root = complex(-0.5, cmath.sqrt(3)/2)\n",
        "\n",
        "    x1 = -1/3 * (b + C + d_0 / C)\n",
        "    x2 = -1/3 * (b + C * primitive_cube_root + d_0 / (C * primitive_cube_root))\n",
        "    x3 = -1/3 * (b + C * primitive_cube_root**2 + d_0 / (C * primitive_cube_root**2))\n",
        "\n",
        "    roots = sorted([x1, x2, x3], key=lambda x: (x.real, x.imag))\n",
        "    \n",
        "    return list(roots)\n"
      ]
    },
    {
      "cell_type": "markdown",
      "metadata": {
        "id": "BpvJhj5Zl2lI"
      },
      "source": [
        "Test cases that include\n",
        "$$(x-1)(x-2)(x-3) = x^3 - 6 x^2 + 11 x - 6 = 0 $$\n",
        "\n",
        "$$(x-1) \\left( x + \\frac{1}{2} + i \\frac{\\sqrt{3}}{2}\\right) \\left( x + \\frac{1}{2} - i \\frac{\\sqrt{3}}{2}\\right) =   x^3 -1 =  0  $$\n",
        "\n",
        "$$(x-1)^3 = x^3 - 3 x^2 + 3 x - 1 = 0 $$\n",
        "\n",
        "$$(x)(x-i)(x+i) = x^3 + x  = 0 $$\n",
        "\n",
        "$$(x-1)(x-i)(x+i) = x^3 - x^2 + x - 1 = 0 $$\n",
        "\n",
        "$$ (x+2)^2 (x-1) = x^3 + 3 x^2 - 4 = 0  $$\n",
        "\n",
        "$$ (x+2)^2 (x-1) = x^3 + 10^6 x^2  = 0  $$\n",
        "\n",
        "$$ (x+2)^2 (x-1) = x^3 + 10^7 x^2  = 0  $$\n",
        "three real diferent roots,  roots in the last digits of the group members, root of multiplicity two, and complex roots with small and large $b$.\n",
        "\n",
        "**Last digits:**"
      ]
    },
    {
      "cell_type": "code",
      "execution_count": 49,
      "metadata": {
        "id": "dGp_2Wu8uBYF"
      },
      "outputs": [
        {
          "name": "stdout",
          "output_type": "stream",
          "text": [
            "True\n",
            "True\n",
            "True\n",
            "True\n",
            "True\n",
            "True\n",
            "True\n",
            "True\n"
          ]
        }
      ],
      "source": [
        "from numpy import allclose\n",
        "\n",
        "variants = [{'b': -6.0, 'c': 11.0, 'd': -6.0},\n",
        "            {'b':  0.0, 'c': 0.0, 'd': -1.0},\n",
        "            {'b': -3.0, 'c': 3.0,  'd':-1.0},\n",
        "            {'b':  0.0, 'c': 0.0,  'd': 1.0},\n",
        "            {'b': -1.0, 'c': 1.0,  'd':-1.0},\n",
        "            {'b':  3.0, 'c': 0.0,  'd':-4.0},\n",
        "            {'b':  1e6, 'c': 0.0,  'd':0.0},\n",
        "            {'b':  1e7, 'c': 0.0,  'd':0.0},]\n",
        "\n",
        "for var in variants:\n",
        "    x1, x2, x3= solve_cubic(**var)\n",
        "    print(allclose(cubic(1,var['b'],var['c'],var['d'],x1), 0.0) and allclose(cubic(1,var['b'],var['c'],var['d'],x2), 0.0) and  allclose(cubic(1,var['b'],var['c'],var['d'],x3), 0.0))\n",
        "# ChatGPT cubic equation with large b python\n",
        "import numpy as np\n",
        "\n",
        "def solve_cubic_np_roots(b,c,d):\n",
        "\n",
        "  # Create a numpy array with the coefficients\n",
        "  coefficients = [1, b, c, d]\n",
        "\n",
        "  # Find the roots of the cubic equation\n",
        "  roots = np.roots(coefficients)\n",
        "\n",
        "  return roots\n",
        "\n"
      ]
    },
    {
      "cell_type": "code",
      "execution_count": 41,
      "metadata": {},
      "outputs": [
        {
          "name": "stdout",
          "output_type": "stream",
          "text": [
            "True\n",
            "True\n",
            "True\n",
            "True\n",
            "True\n",
            "True\n",
            "True\n",
            "True\n"
          ]
        }
      ],
      "source": [
        "from numpy import allclose\n",
        "\n",
        "variants = [{'b': -6.0, 'c': 11.0, 'd': -6.0},\n",
        "            {'b':  0.0, 'c': 0.0, 'd': -1.0},\n",
        "            {'b': -3.0, 'c': 3.0,  'd':-1.0},\n",
        "            {'b':  0.0, 'c': 0.0,  'd': 1.0},\n",
        "            {'b': -1.0, 'c': 1.0,  'd':-1.0},\n",
        "            {'b':  3.0, 'c': 0.0,  'd':-4.0},\n",
        "            {'b':  1e6, 'c': 0.0,  'd':0.0},\n",
        "            {'b':  1e7, 'c': 0.0,  'd':0.0},]\n",
        "\n",
        "for var in variants:\n",
        "             x1, x2, x3= solve_cubic_np_roots(**var)\n",
        "             print(allclose(cubic(1,var['b'],var['c'],var['d'],x1), 0.0) and allclose(cubic(1,var['b'],var['c'],var['d'],x2), 0.0) and  allclose(cubic(1,var['b'],var['c'],var['d'],x3), 0.0))\n"
      ]
    },
    {
      "cell_type": "code",
      "execution_count": 42,
      "metadata": {
        "id": "TGQU75-soowE"
      },
      "outputs": [],
      "source": [
        "# ChatGPT cubic equation with large b python (regenerate)\n",
        "\n",
        "import sympy as sp\n",
        "\n",
        "def solve_cubic_sympy_solve(b,c,d):\n",
        "  # Define the variables\n",
        "  x = sp.symbols('x')\n",
        "\n",
        "  # Define the cubic equation with a large 'b' coefficient\n",
        "  equation = x**3 + b*x**2 + c*x + d\n",
        "\n",
        "  # Solve the cubic equation\n",
        "  roots= sp.solve(equation, x)\n",
        "\n",
        "  return roots\n",
        "\n"
      ]
    },
    {
      "cell_type": "code",
      "execution_count": 43,
      "metadata": {
        "colab": {
          "base_uri": "https://localhost:8080/"
        },
        "id": "s4GLQjfhAF4G",
        "outputId": "5a2adb00-4c07-476f-8b9b-ed3bdca5be4c"
      },
      "outputs": [
        {
          "name": "stdout",
          "output_type": "stream",
          "text": [
            "True\n",
            "True\n",
            "True\n",
            "True\n",
            "True\n",
            "True\n",
            "True\n",
            "True\n"
          ]
        }
      ],
      "source": [
        "from numpy import allclose\n",
        "\n",
        "variants = [{'b': -6.0, 'c': 11.0, 'd': -6.0},\n",
        "            {'b':  0.0, 'c': 0.0, 'd': -1.0},\n",
        "            {'b': -3.0, 'c': 3.0,  'd':-1.0},\n",
        "            {'b':  0.0, 'c': 0.0,  'd': 1.0},\n",
        "            {'b': -1.0, 'c': 1.0,  'd':-1.0},\n",
        "            {'b':  3.0, 'c': 0.0,  'd':-4.0},\n",
        "            {'b':  1e6, 'c': 0.0,  'd':0.0},\n",
        "            {'b':  1e7, 'c': 0.0,  'd':0.0},]\n",
        "\n",
        "for var in variants:\n",
        "             roots = solve_cubic_sympy_solve(**var)\n",
        "             ans = True\n",
        "             for root in roots:\n",
        "               ans = ans and allclose(cubic(1,var['b'],var['c'],var['d'],complex(root)), 0.0)\n",
        "             print(ans)\n",
        "\n",
        "\n"
      ]
    },
    {
      "cell_type": "code",
      "execution_count": 44,
      "metadata": {
        "colab": {
          "base_uri": "https://localhost:8080/",
          "height": 193
        },
        "id": "tcPi8_3XpSwc",
        "outputId": "efc85ad4-e3f0-4996-ca20-40e23e90c485"
      },
      "outputs": [
        {
          "data": {
            "image/png": "[encoded data removed]",
            "text/latex": [
              "$\\displaystyle \\left[ -100000000.00001, \\  5.0000000000495 \\cdot 10^{-6} - 9.98749217771834 \\cdot 10^{-5} i, \\  5.0000000000495 \\cdot 10^{-6} + 9.98749217771834 \\cdot 10^{-5} i\\right]$"
            ],
            "text/plain": [
              "[-100000000.00001, 5.0000000000495e-6 - 9.98749217771834e-5⋅ⅈ, 5.0000000000495 ↪\n",
              "\n",
              "↪ e-6 + 9.98749217771834e-5⋅ⅈ]"
            ]
          },
          "execution_count": 44,
          "metadata": {},
          "output_type": "execute_result"
        }
      ],
      "source": [
        "from sympy import init_printing\n",
        "init_printing()\n",
        "\n",
        "\n",
        "b = 10e7  # Large 'b' coefficient\n",
        "c = -1000.0\n",
        "d = 1.0\n",
        "\n",
        "roots = solve_cubic_sympy_solve(b,c,d)\n",
        "roots"
      ]
    },
    {
      "cell_type": "code",
      "execution_count": 45,
      "metadata": {
        "id": "YvuTtPXMrFb0"
      },
      "outputs": [
        {
          "name": "stdout",
          "output_type": "stream",
          "text": [
            "(-100000000.00001+0j) (7792641.009994507+0j)\n",
            "(5.0000000000495e-06-9.98749217771834e-05j) 0j\n",
            "(5.0000000000495e-06+9.98749217771834e-05j) 0j\n"
          ]
        }
      ],
      "source": [
        "from sympy import N\n",
        "for root in roots:\n",
        "    print(complex(root), cubic(1,b,c,d,complex(root)))"
      ]
    },
    {
      "cell_type": "markdown",
      "metadata": {
        "id": "-p85KIQpD33b"
      },
      "source": [
        "All methods fail in some cases"
      ]
    },
    {
      "cell_type": "code",
      "execution_count": null,
      "metadata": {
        "id": "XjdEmYcTD3hj"
      },
      "outputs": [],
      "source": []
    },
    {
      "cell_type": "code",
      "execution_count": 46,
      "metadata": {
        "id": "q7hwT7tb4cML"
      },
      "outputs": [
        {
          "name": "stdout",
          "output_type": "stream",
          "text": [
            "True\n",
            "True\n",
            "True\n",
            "True\n",
            "True\n",
            "True\n",
            "True\n",
            "True\n",
            "True\n",
            "True\n",
            "True\n",
            "True\n",
            "True\n",
            "True\n",
            "True\n",
            "True\n",
            "True\n",
            "True\n",
            "True\n",
            "True\n",
            "True\n",
            "True\n",
            "True\n",
            "True\n",
            "True\n",
            "True\n",
            "True\n",
            "True\n",
            "True\n",
            "True\n",
            "False\n",
            "False\n",
            "False\n",
            "False\n",
            "False\n",
            "False\n",
            "False\n",
            "False\n",
            "False\n",
            "False\n",
            "False\n",
            "False\n",
            "False\n",
            "False\n",
            "False\n",
            "False\n",
            "False\n",
            "False\n",
            "False\n",
            "False\n",
            "False\n",
            "False\n",
            "False\n",
            "False\n",
            "False\n",
            "False\n",
            "False\n",
            "False\n",
            "False\n",
            "False\n",
            "False\n",
            "False\n",
            "False\n",
            "False\n",
            "False\n",
            "False\n",
            "False\n",
            "False\n",
            "False\n",
            "False\n",
            "False\n",
            "False\n",
            "False\n",
            "False\n",
            "False\n",
            "False\n",
            "False\n",
            "False\n",
            "False\n",
            "False\n",
            "False\n",
            "False\n",
            "False\n",
            "False\n"
          ]
        }
      ],
      "source": [
        "from numpy import allclose\n",
        "\n",
        "variants = [{'b': -6.0, 'c': 11.0, 'd': -6.0},\n",
        "            {'b':  0.0, 'c': 0.0, 'd': -1.0},\n",
        "            {'b': -3.0, 'c': 3.0,  'd':-1.0},\n",
        "            {'b':  0.0, 'c': 0.0,  'd': 1.0},\n",
        "            {'b': -1.0, 'c': 1.0,  'd':-1.0},\n",
        "            {'b':  3.0, 'c': 0.0,  'd':-4.0},\n",
        "            {'b':  1e6, 'c': 0.0,  'd':0.0},\n",
        "            {'b':  1e7, 'c': 0.0,  'd':0.0},\n",
        "            {'b':  1.0, 'c':  0.0, 'd': -1.0},\n",
        "            {'b': -1.0, 'c': 0.0,  'd': 1.0},\n",
        "            {'b':  1e6, 'c': -1.0,  'd':0.0},\n",
        "            {'b':  1e7, 'c': -1.0,  'd':0.0},\n",
        "            {'b':  -1e6, 'c': 1.0,  'd':0.0},\n",
        "            {'b':  -1e7, 'c': 1.0,  'd':0.0},\n",
        "            {'b':  -1e6, 'c': -1.0,  'd':0.0},\n",
        "            {'b':  -1e7, 'c': -1.0,  'd':0.0},\n",
        "            {'b':  1e6, 'c': 1.0,  'd':1.0},\n",
        "            {'b':  1e6, 'c': 1.0,  'd':-1.0},\n",
        "            {'b':  1e6, 'c': -1.0,  'd':1.0},\n",
        "            {'b':  1e6, 'c': -1.0,  'd':-1.0},\n",
        "            {'b':  1e7, 'c': 1.0,  'd':1.0},\n",
        "            {'b':  1e7, 'c': 1.0,  'd':-1.0},\n",
        "            {'b':  1e7, 'c': -1.0,  'd':1.0},\n",
        "            {'b':  1e7, 'c': -1.0,  'd':-1.0},\n",
        "            {'b':  1e8, 'c': 1.0,  'd':1.0},\n",
        "            {'b':  1e8, 'c': 1.0,  'd':-1.0},\n",
        "            {'b':  1e8, 'c': -1.0,  'd':1.0},\n",
        "            {'b':  1e8, 'c': -1.0,  'd':-1.0},]\n",
        "\n",
        "for var in variants:\n",
        "\n",
        "   x1, x2, x3= solve_cubic(**var)\n",
        "   print(allclose(cubic(1,var['b'],var['c'],var['d'],x1), 0.0) and allclose(cubic(1,var['b'],var['c'],var['d'],x2), 0.0) and  allclose(cubic(1,var['b'],var['c'],var['d'],x3), 0.0))\n",
        "\n",
        "   x1, x2, x3= solve_cubic_np_roots(**var)\n",
        "   print(allclose(cubic(1,var['b'],var['c'],var['d'],x1), 0.0) and allclose(cubic(1,var['b'],var['c'],var['d'],x2), 0.0) and  allclose(cubic(1,var['b'],var['c'],var['d'],x3), 0.0))\n",
        "\n",
        "   roots = solve_cubic_sympy_solve(**var)\n",
        "   ans = True\n",
        "   for root in roots:\n",
        "        ans = ans and allclose(cubic(1,var['b'],var['c'],var['d'],complex(root)), 0.0)\n",
        "   print(ans)\n"
      ]
    }
  ],
  "metadata": {
    "colab": {
      "provenance": []
    },
    "kernelspec": {
      "display_name": "qntdev",
      "language": "python",
      "name": "python3"
    },
    "language_info": {
      "codemirror_mode": {
        "name": "ipython",
        "version": 3
      },
      "file_extension": ".py",
      "mimetype": "text/x-python",
      "name": "python",
      "nbconvert_exporter": "python",
      "pygments_lexer": "ipython3",
      "version": "3.10.16"
    }
  },
  "nbformat": 4,
  "nbformat_minor": 0
}
